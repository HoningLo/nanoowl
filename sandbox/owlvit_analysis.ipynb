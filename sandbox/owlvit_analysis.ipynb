{
 "cells": [
  {
   "cell_type": "code",
   "execution_count": 1,
   "metadata": {},
   "outputs": [],
   "source": [
    "import PIL.Image\n",
    "from nanoowl.utils.owlvit import OwlVit\n",
    "from nanoowl.utils.module_recorder import ModuleRecorder\n",
    "from nanoowl.utils.module_profiler import ModuleProfiler"
   ]
  },
  {
   "cell_type": "code",
   "execution_count": 2,
   "metadata": {},
   "outputs": [],
   "source": [
    "image = PIL.Image.open(\"../assets/dogs.jpg\")"
   ]
  },
  {
   "cell_type": "code",
   "execution_count": 3,
   "metadata": {},
   "outputs": [],
   "source": [
    "owlvit = OwlVit()"
   ]
  },
  {
   "cell_type": "code",
   "execution_count": 4,
   "metadata": {},
   "outputs": [],
   "source": [
    "profilers = ModuleProfiler(owlvit.model.owlvit)"
   ]
  },
  {
   "cell_type": "code",
   "execution_count": 12,
   "metadata": {},
   "outputs": [],
   "source": [
    "\n",
    "with vision_recorder:\n",
    "    out = owlvit.predict(image, texts=[\"A dog\", \"A cat\"])"
   ]
  },
  {
   "cell_type": "code",
   "execution_count": 13,
   "metadata": {},
   "outputs": [
    {
     "data": {
      "text/plain": [
       "386.634765625"
      ]
     },
     "execution_count": 13,
     "metadata": {},
     "output_type": "execute_result"
    }
   ],
   "source": [
    "vision_recorder.get_elapsed_time()"
   ]
  },
  {
   "cell_type": "code",
   "execution_count": 27,
   "metadata": {},
   "outputs": [],
   "source": [
    "x = vision_recorder.get_output()"
   ]
  },
  {
   "cell_type": "code",
   "execution_count": 33,
   "metadata": {},
   "outputs": [
    {
     "name": "stdout",
     "output_type": "stream",
     "text": [
      "Help on method register_forward_pre_hook in module torch.nn.modules.module:\n",
      "\n",
      "register_forward_pre_hook(hook: Callable[..., NoneType]) -> torch.utils.hooks.RemovableHandle method of transformers.models.owlvit.modeling_owlvit.OwlViTModel instance\n",
      "    Registers a forward pre-hook on the module.\n",
      "    \n",
      "    The hook will be called every time before :func:`forward` is invoked.\n",
      "    It should have the following signature::\n",
      "    \n",
      "        hook(module, input) -> None or modified input\n",
      "    \n",
      "    The input contains only the positional arguments given to the module.\n",
      "    Keyword arguments won't be passed to the hooks and only to the ``forward``.\n",
      "    The hook can modify the input. User can either return a tuple or a\n",
      "    single modified value in the hook. We will wrap the value into a tuple\n",
      "    if a single value is returned(unless that value is already a tuple).\n",
      "    \n",
      "    Returns:\n",
      "        :class:`torch.utils.hooks.RemovableHandle`:\n",
      "            a handle that can be used to remove the added hook by calling\n",
      "            ``handle.remove()``\n",
      "\n"
     ]
    }
   ],
   "source": [
    "help(owlvit.model.owlvit.register_forward_pre_hook)"
   ]
  }
 ],
 "metadata": {
  "kernelspec": {
   "display_name": "Python 3",
   "language": "python",
   "name": "python3"
  },
  "language_info": {
   "codemirror_mode": {
    "name": "ipython",
    "version": 3
   },
   "file_extension": ".py",
   "mimetype": "text/x-python",
   "name": "python",
   "nbconvert_exporter": "python",
   "pygments_lexer": "ipython3",
   "version": "3.8.10"
  },
  "orig_nbformat": 4
 },
 "nbformat": 4,
 "nbformat_minor": 2
}
